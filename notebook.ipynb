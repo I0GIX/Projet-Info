{
 "cells": [
  {
   "cell_type": "markdown",
   "metadata": {},
   "source": [
    "Compte rendu du Projet Info tp 4 réalisé par Logan Boix Groupe : gH"
   ]
  },
  {
   "cell_type": "markdown",
   "metadata": {},
   "source": [
    "Introduction : Lors de ce Tp nous avons voulu réaliser une simulation de propagation d'une maladie dans une population avant de refaire cette simulation une centaine de fois.\n",
    "\n",
    "Pour se faire nous avons utilisé java afin de réaliser la simulation et insérer les résultats dans des fichiers csv avant d'interpréter ces résultats avec python et jupyter notebook"
   ]
  },
  {
   "cell_type": "markdown",
   "metadata": {},
   "source": [
    "Dans le fichier zip vous retrouverez:\n",
    "\n",
    "Le code java utilisé (3 classes : Main, Individu, SimulationMaladie)  (chemin d'accés : \\info\\src\\main\\java\\info)\n",
    "\n",
    "Le code python (en bas du jupyter notebook afin de tracer les graphes demandés) (chemin d'accés : source)\n",
    "\n",
    "100 fichiers csv contenants les résultats des simulations (chemin d'accés : source)\n",
    "\n",
    "un fichier readme comme demandé dans le tp (chemin d'accés : source)\n",
    "\n",
    "un éxécutable jar (le fichier s'appelle pitié car j'ai exporté le projet quand le fichier s'appellé encore \"pitié\") (chemin d'accés : source)\n",
    "\n",
    "un environement virtuel pour éxécuter python sous vsc (chemin d'accés : \\my_venv)\n",
    "\n",
    "un fichier pom.xml pour l'importation de librairies (chemin d'accés : \\info)\n",
    "\n",
    "8 images qui servent à illustrer le compte rendu (chemin d'accés : \\images)"
   ]
  },
  {
   "cell_type": "markdown",
   "metadata": {},
   "source": [
    "Le jupyter notebook a été choisi pour effectuer le rapport , le code en java ce trouve dans le fichier zip ou vous trouvez ce .ipynb .\n",
    "\n",
    "\n",
    "Le Programme suit l'ordre suivant : \n",
    "le main créer random une instance du MersenneTwister. puis on créer un liste de listes nommée résultats qui permetra de stockés les résulats de toutes les simulations.\n",
    "\n",
    "On lance la boucle de 100 répétitions, \n",
    "à l'intérieur on crée une liste résultat qui contiendra les résultats d'une seule simulation. \n",
    "On crée également une population pour la suite avec 'initialiserPopulation'."
   ]
  },
  {
   "cell_type": "markdown",
   "metadata": {},
   "source": [
    "![Image1.PNG](images\\Image1.PNG)"
   ]
  },
  {
   "cell_type": "markdown",
   "metadata": {},
   "source": [
    "Ensuite on lance une boucle de 730 itérations, \n",
    "on commence par déplacer les individu afin qu'ils soient dispersés au hasard dans la grille de 300x300 avec 'deplacerIndividus', "
   ]
  },
  {
   "cell_type": "markdown",
   "metadata": {},
   "source": [
    "![Image2.PNG](images\\Image2.PNG)"
   ]
  },
  {
   "cell_type": "markdown",
   "metadata": {},
   "source": [
    "on expose 20 personnes avec 'initmaladie',"
   ]
  },
  {
   "cell_type": "markdown",
   "metadata": {},
   "source": [
    "![Image3.PNG](images\\Image3.PNG)"
   ]
  },
  {
   "cell_type": "markdown",
   "metadata": {},
   "source": [
    "puis on compte le nombres de personnes pour chaque statut avec 'compterStatut'"
   ]
  },
  {
   "cell_type": "markdown",
   "metadata": {},
   "source": [
    "![Image4.PNG](images\\Image4.PNG)"
   ]
  },
  {
   "cell_type": "markdown",
   "metadata": {},
   "source": [
    "avant de mettre a jour ce même statut avec 'miseAJourStatuts'."
   ]
  },
  {
   "cell_type": "markdown",
   "metadata": {},
   "source": [
    "![Image5.PNG](images\\Image5.PNG)"
   ]
  },
  {
   "cell_type": "markdown",
   "metadata": {},
   "source": [
    "enfin fait tourner 'infection' qui change ou non l'état d'une personne saine à exposée."
   ]
  },
  {
   "cell_type": "markdown",
   "metadata": {},
   "source": [
    "![Image6.PNG](images\\Image6.PNG)"
   ]
  },
  {
   "cell_type": "markdown",
   "metadata": {},
   "source": [
    "![Image6bis.PNG](images\\Image6bis.PNG)"
   ]
  },
  {
   "cell_type": "markdown",
   "metadata": {},
   "source": [
    "une fois la boucle de 730 itérations finie on ajoutele résultat de cette simulation a la des resultats totaux\n",
    "puis on écrit les résultat de cette simulation d'un un fichier csv\n",
    "\n",
    "une fois les 100 simulations terminées on affiche dans le terminal qui a éxécuter le code java les moyennes calculées"
   ]
  },
  {
   "cell_type": "markdown",
   "metadata": {},
   "source": [
    "![Image7.PNG](images\\Image7.PNG)"
   ]
  },
  {
   "cell_type": "markdown",
   "metadata": {},
   "source": [
    "\n",
    "une fois les 100 simulations terminées on affiche dans le terminal qui a éxécuter le code java les moyennes calculées"
   ]
  },
  {
   "cell_type": "markdown",
   "metadata": {},
   "source": [
    "![Image8.PNG](images\\Image8.PNG)"
   ]
  },
  {
   "cell_type": "markdown",
   "metadata": {},
   "source": [
    "Fin"
   ]
  },
  {
   "cell_type": "code",
   "execution_count": null,
   "metadata": {},
   "outputs": [],
   "source": [
    "# Cette partie du code permet d'ouvrir et de générer les 100 graphes associés aux .csv \n",
    "import pandas as pd\n",
    "import matplotlib.pyplot as plt\n",
    "\n",
    "for j in range(99):\n",
    "\n",
    "    # Ouvre les fichier csv\n",
    "    filename = f\"resultats_simulation_{j}.csv\"  \n",
    "    with open(filename, 'r') as file:\n",
    "        donnée = file.readline().strip().split(',')\n",
    "\n",
    "    # Vérifie que la taille soit bien divisible par 4 pour la séparation des données\n",
    "    if len(donnée) % 4 != 0:\n",
    "        raise ValueError(\"Le nombre de valeurs dans le fichier CSV n'est pas un multiple de 4.\")\n",
    "\n",
    "    # Divise les données en groupes de 4 pour chaque itération\n",
    "    num_iterations = len(donnée) // 4\n",
    "    iterations = range(1, num_iterations + 1)\n",
    "    états = ['Susceptible', 'Exposed', 'Infected', 'Recovered']\n",
    "    groupe = [donnée[i*4:(i+1)*4] for i in range(num_iterations)]\n",
    "\n",
    "    # Créer un DataFrame avec les colonnes appropriées\n",
    "    df = pd.DataFrame(groupe, columns=états)\n",
    "\n",
    "    df = df.applymap(lambda x: int(x.strip('\"')) / 20000)\n",
    "\n",
    "    # Affiche le graphique d'évolution\n",
    "    plt.figure(figsize=(10, 6))\n",
    "    for état in états:\n",
    "        plt.plot(iterations, df[état], label=état)\n",
    "    plt.xlabel(\"Time in days\")\n",
    "    plt.ylabel(\"Ratio of agents in each state\")\n",
    "    plt.title(\"S, E, I and R agents population over time\")\n",
    "    plt.legend()\n",
    "    plt.show()\n",
    "\n"
   ]
  }
 ],
 "metadata": {
  "kernelspec": {
   "display_name": "Python 3",
   "language": "python",
   "name": "python3"
  },
  "language_info": {
   "codemirror_mode": {
    "name": "ipython",
    "version": 3
   },
   "file_extension": ".py",
   "mimetype": "text/x-python",
   "name": "python",
   "nbconvert_exporter": "python",
   "pygments_lexer": "ipython3",
   "version": "3.11.8"
  }
 },
 "nbformat": 4,
 "nbformat_minor": 2
}
